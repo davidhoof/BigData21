{
 "cells": [
  {
   "cell_type": "markdown",
   "metadata": {},
   "source": [
    "# Ex 1.1: MapReduce with Python Functional Programming"
   ]
  },
  {
   "cell_type": "markdown",
   "metadata": {},
   "source": [
    "#### Python *map* function\n",
    "Python has e built in *map* function -> [see python docs](https://docs.python.org/3/library/functions.html#map)\n",
    "* ``map(function, iterable object)`` applies a function to every member of the object (=data structure)\n",
    "* iterable objects are e.g. lists, dicts, arrays, ... but also custom data structures (see [here](https://thispointer.com/python-how-to-make-a-class-iterable-create-iterator-class-for-it/))"
   ]
  },
  {
   "cell_type": "code",
   "execution_count": 2,
   "metadata": {},
   "outputs": [
    {
     "name": "stdout",
     "output_type": "stream",
     "text": [
      "[1, 2, 3, 4]\n",
      "[2, 3, 4, 5]\n"
     ]
    }
   ],
   "source": [
    "#example\n",
    "def Plus1(a):\n",
    "    return a+1\n",
    "\n",
    "A = [1,2,3,4]\n",
    "print(A)\n",
    "B = list(map(Plus1,A)) #need to cast map output to list\n",
    "print(B)"
   ]
  },
  {
   "cell_type": "code",
   "execution_count": 3,
   "metadata": {},
   "outputs": [
    {
     "name": "stdout",
     "output_type": "stream",
     "text": [
      "[1, 2, 3, 4]\n",
      "[3, 4, 5, 6]\n",
      "[2, 3, 6, 7]\n"
     ]
    }
   ],
   "source": [
    "#example 2 - map with an function that takes arguments\n",
    "from functools import partial\n",
    "\n",
    "def PlusX(a,x):\n",
    "    return a+x\n",
    "\n",
    "\n",
    "A = [1,2,3,4]\n",
    "print(A)\n",
    "B = list(map(partial(PlusX,x=2),A)) #use partial to fix parameters \n",
    "print(B)\n",
    "\n",
    "C = [1,1,3,3]\n",
    "D = list(map(PlusX,A,C)) #or input multiple iterable objects\n",
    "print(D)"
   ]
  },
  {
   "cell_type": "code",
   "execution_count": 4,
   "metadata": {},
   "outputs": [
    {
     "name": "stdout",
     "output_type": "stream",
     "text": [
      "[2, 3, 4, 5]\n"
     ]
    }
   ],
   "source": [
    "#example 3 - map with lmbda functions\n",
    "A = [1,2,3,4]\n",
    "B = list(map(lambda x:x+1,A ))#implement function directly with lambda\n",
    "print(B)"
   ]
  },
  {
   "cell_type": "code",
   "execution_count": 5,
   "metadata": {},
   "outputs": [
    {
     "data": {
      "text/plain": [
       "array([[12.27994097,  3.00123249,  1.20249034, 13.83508299, 12.86162202,\n",
       "        12.68535231,  1.75274584,  2.00149966, 14.72431511,  0.63079327],\n",
       "       [11.61878729,  2.01664081, 18.17358897,  9.49833422, 15.80994858,\n",
       "        13.23200338,  4.77130082,  9.42645447,  3.39042372, 18.17991899],\n",
       "       [17.06341769, 17.5839257 , 15.41537768,  6.79988323,  7.61464745,\n",
       "        17.58128112, 11.0468792 , 12.27999325,  3.40432639,  4.73134783],\n",
       "       [ 0.62342151,  6.5466897 ,  8.79000345,  9.48892692, 16.11083873,\n",
       "         0.07965089, 16.52055091,  3.91271932, 14.64560394, 17.87736676],\n",
       "       [15.45701865,  8.92046355,  0.85342829, 18.25881318, 10.26089736,\n",
       "         2.24220851,  7.47098531,  1.95509605, 13.69078502, 14.3128435 ],\n",
       "       [12.69426   , 12.71844551, 13.35001732,  8.85973946,  0.65525979,\n",
       "         7.87564997, 19.86325229,  2.57708172, 15.16047798, 18.95481418],\n",
       "       [14.8786173 , 10.79656684, 11.9691097 ,  1.96755658, 16.09774411,\n",
       "         5.10110491, 15.76790571,  4.72739273,  8.8842445 , 13.36443011],\n",
       "       [ 5.0618306 ,  9.34589299, 16.66390603, 15.21772242,  7.12468591,\n",
       "         8.60320873, 12.13321162, 18.73826304, 17.87848527, 13.49288662],\n",
       "       [18.32911462, 13.74493443, 14.94542978,  9.34594131,  5.80259363,\n",
       "        19.75027576, 14.8031983 ,  3.79241371,  5.05377824,  2.4235533 ],\n",
       "       [ 2.86496886,  7.65744427, 18.13667886, 11.64114897,  6.69895007,\n",
       "         2.4173881 ,  6.70783604,  9.84642869, 18.18609951, 19.49271091]])"
      ]
     },
     "execution_count": 5,
     "metadata": {},
     "output_type": "execute_result"
    }
   ],
   "source": [
    "#example 4 - Numpy has map \"build in\"\n",
    "import numpy as np\n",
    "A = np.random.rand(10,10)*20\n",
    "A"
   ]
  },
  {
   "cell_type": "code",
   "execution_count": 6,
   "metadata": {},
   "outputs": [],
   "source": [
    "#apply function directly on each element of an array\n",
    "def isLarger10(x):\n",
    "    return x>10\n",
    "\n",
    "B = isLarger10(A)"
   ]
  },
  {
   "cell_type": "code",
   "execution_count": 7,
   "metadata": {},
   "outputs": [
    {
     "data": {
      "text/plain": [
       "array([[ True, False, False,  True,  True,  True, False, False,  True,\n",
       "        False],\n",
       "       [ True, False,  True, False,  True,  True, False, False, False,\n",
       "         True],\n",
       "       [ True,  True,  True, False, False,  True,  True,  True, False,\n",
       "        False],\n",
       "       [False, False, False, False,  True, False,  True, False,  True,\n",
       "         True],\n",
       "       [ True, False, False,  True,  True, False, False, False,  True,\n",
       "         True],\n",
       "       [ True,  True,  True, False, False, False,  True, False,  True,\n",
       "         True],\n",
       "       [ True,  True,  True, False,  True, False,  True, False, False,\n",
       "         True],\n",
       "       [False, False,  True,  True, False, False,  True,  True,  True,\n",
       "         True],\n",
       "       [ True,  True,  True, False, False,  True,  True, False, False,\n",
       "        False],\n",
       "       [False, False,  True,  True, False, False, False, False,  True,\n",
       "         True]])"
      ]
     },
     "execution_count": 7,
     "metadata": {},
     "output_type": "execute_result"
    }
   ],
   "source": [
    "B"
   ]
  },
  {
   "cell_type": "markdown",
   "metadata": {},
   "source": [
    "#### *Reduce* in Python\n",
    "*functools* also provides a *reduce* function. Again, it will take a function and one ore more iterable objects as arguments. (see [API](https://docs.python.org/3/library/functools.html#functools.reduce))"
   ]
  },
  {
   "cell_type": "code",
   "execution_count": 8,
   "metadata": {},
   "outputs": [
    {
     "name": "stdout",
     "output_type": "stream",
     "text": [
      "The sum of the list elements is : 17\n",
      "The maximum element of the list is : 6\n"
     ]
    }
   ],
   "source": [
    "# importing functools for reduce() \n",
    "import functools \n",
    "  \n",
    "# initializing list \n",
    "lis = [ 1 , 3, 5, 6, 2, ] \n",
    "  \n",
    "def addIt(a,b):\n",
    "    return a+b\n",
    "\n",
    "# using reduce to compute sum of list \n",
    "print (\"The sum of the list elements is : \",end=\"\") \n",
    "print (functools.reduce(addIt,lis)) \n",
    "  \n",
    "# using reduce to compute maximum element from list \n",
    "print (\"The maximum element of the list is : \",end=\"\") \n",
    "print (functools.reduce(lambda a,b : a if a > b else b,lis)) "
   ]
  },
  {
   "cell_type": "markdown",
   "metadata": {},
   "source": [
    "#### Splitting"
   ]
  },
  {
   "cell_type": "code",
   "execution_count": 9,
   "metadata": {},
   "outputs": [
    {
     "name": "stdout",
     "output_type": "stream",
     "text": [
      "[1, 2, 3]\n",
      "[4, 5, 6]\n",
      "[7, 8, 9]\n"
     ]
    }
   ],
   "source": [
    "import more_itertools as mit\n",
    "\n",
    "A=[1,2,3,4,5,6,7,8,9]\n",
    "B=list(mit.chunked(A, 3)) #split into lists of max size 3\n",
    "\n",
    "for i in B: #iterate over the spitts \n",
    "    print(i)"
   ]
  },
  {
   "cell_type": "code",
   "execution_count": 10,
   "metadata": {},
   "outputs": [
    {
     "name": "stdout",
     "output_type": "stream",
     "text": [
      "['t', 'h', 'i', 's', ' ']\n",
      "['i', 's', ' ', 'a', ' ']\n",
      "['s', 'h', 'o', 'r', 't']\n",
      "[' ', 't', 'e', 'x', 't']\n",
      "[' ', 'i', 'n', ' ', 'f']\n",
      "['o', 'r', 'm', ' ', 'o']\n",
      "['f', ' ', 'a', ' ', 'p']\n",
      "['y', 't', 'h', 'o', 'n']\n",
      "[' ', 's', 't', 'r', 'i']\n",
      "['n', 'g']\n"
     ]
    }
   ],
   "source": [
    "A='this is a short text in form of a python string'\n",
    "B=list(mit.chunked(A, 5)) #split into lists of max size 5\n",
    "\n",
    "for i in B: #iterate over the spitts \n",
    "    print(i)"
   ]
  },
  {
   "cell_type": "markdown",
   "metadata": {},
   "source": [
    "## Exercise: build a simple *Character Count* Algorithm based on the above *split, map* and *reduce* operators "
   ]
  },
  {
   "cell_type": "code",
   "execution_count": 16,
   "metadata": {},
   "outputs": [],
   "source": [
    "#some text from NYTimes\n",
    "text = ' Byron Spencer, handing out water and burgers to protesters outside Los Angeles City Hall, said he was both “elated and defeated” by word of the new charges. He said he had seen countless surges of outrage over police brutality against black men, only to have it happen again. “I’m 55, I’m black and I’m male — I’ve seen the cycle,” he said. “It’s almost like PTSD constantly having this conversation with my son.” Cierra Sesay reacted to the charges at a demonstration in the shadow of the State Capitol in Denver. “It’s amazing, it’s another box we can check,” she said. “But it goes up so much higher. It’s about the system.” In San Francisco, Tevita Tomasi — who is of Polynesian descent and described himself as “dark and tall and big” — said he regularly faced racial profiling, evidence of the bigger forces that must be overcome. On Wednesday, he distributed bottled water at what he said was his first demonstration, but one that would not be his last. What would stop him from protesting?'"
   ]
  },
  {
   "cell_type": "markdown",
   "metadata": {},
   "source": [
    "* HINT: use list of *python* [dictionaries](https://docs.python.org/3/tutorial/datastructures.html#dictionaries) to store the character counts in the map\n",
    "* HINT 2: merge the dicts in reduce"
   ]
  },
  {
   "cell_type": "code",
   "execution_count": 26,
   "metadata": {},
   "outputs": [],
   "source": [
    "A=list(text)"
   ]
  },
  {
   "cell_type": "code",
   "execution_count": 41,
   "metadata": {},
   "outputs": [
    {
     "data": {
      "text/plain": [
       "{' ': 176,\n",
       " 'B': 2,\n",
       " 'y': 13,\n",
       " 'r': 38,\n",
       " 'o': 52,\n",
       " 'n': 49,\n",
       " 'S': 5,\n",
       " 'p': 10,\n",
       " 'e': 89,\n",
       " 'c': 25,\n",
       " ',': 11,\n",
       " 'h': 39,\n",
       " 'a': 72,\n",
       " 'd': 36,\n",
       " 'i': 49,\n",
       " 'g': 19,\n",
       " 'u': 17,\n",
       " 't': 72,\n",
       " 'w': 13,\n",
       " 'b': 16,\n",
       " 's': 59,\n",
       " 'L': 1,\n",
       " 'A': 1,\n",
       " 'l': 28,\n",
       " 'C': 3,\n",
       " 'H': 2,\n",
       " '“': 6,\n",
       " 'f': 12,\n",
       " '”': 6,\n",
       " '.': 10,\n",
       " 'v': 9,\n",
       " 'k': 5,\n",
       " 'm': 18,\n",
       " 'I': 8,\n",
       " '’': 8,\n",
       " '5': 2,\n",
       " '—': 3,\n",
       " 'P': 2,\n",
       " 'T': 3,\n",
       " 'D': 2,\n",
       " 'z': 1,\n",
       " 'x': 1,\n",
       " 'F': 1,\n",
       " 'O': 1,\n",
       " 'W': 2,\n",
       " '?': 1}"
      ]
     },
     "execution_count": 41,
     "metadata": {},
     "output_type": "execute_result"
    }
   ],
   "source": [
    "import collections, functools, operator\n",
    "\n",
    "def genList(x):\n",
    "    return {x:1}\n",
    "B=list(map(genList,A))\n",
    "C=dict(functools.reduce(operator.add,map(collections.Counter,B)))\n",
    "C"
   ]
  },
  {
   "cell_type": "code",
   "execution_count": null,
   "metadata": {},
   "outputs": [],
   "source": []
  }
 ],
 "metadata": {
  "kernelspec": {
   "display_name": "Python 3",
   "language": "python",
   "name": "python3"
  },
  "language_info": {
   "codemirror_mode": {
    "name": "ipython",
    "version": 3
   },
   "file_extension": ".py",
   "mimetype": "text/x-python",
   "name": "python",
   "nbconvert_exporter": "python",
   "pygments_lexer": "ipython3",
   "version": "3.8.5"
  }
 },
 "nbformat": 4,
 "nbformat_minor": 4
}
